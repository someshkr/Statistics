{
 "cells": [
  {
   "cell_type": "raw",
   "metadata": {},
   "source": [
    "A test is conducted which is consisting of 20 MCQs (multiple choices questions) with every\n",
    "MCQ having its four options out of which only one is correct. Determine the probability that\n",
    "a person undertaking that test has answered exactly 5 questions wrong."
   ]
  },
  {
   "cell_type": "code",
   "execution_count": 1,
   "metadata": {},
   "outputs": [],
   "source": [
    "import numpy as np\n",
    "import matplotlib.pyplot as plt\n",
    "from scipy.stats import binom\n",
    "from scipy.special import factorial"
   ]
  },
  {
   "cell_type": "code",
   "execution_count": 2,
   "metadata": {},
   "outputs": [
    {
     "name": "stdout",
     "output_type": "stream",
     "text": [
      "The probability of getting 5 incorrect answers out of 20 question 0.000003426\n"
     ]
    }
   ],
   "source": [
    "n = 20 # no of questions\n",
    "fail = 5 # wrong answers\n",
    "success = 15\n",
    "\n",
    "#probability of success\n",
    "prob_s = fail/n\n",
    "\n",
    "#probability of failure\n",
    "prob_f = 1 - prob_s\n",
    "\n",
    "#binomial dist formula\n",
    "prob = (factorial(n)/(factorial(success) * factorial(fail))) * np.power(prob_s,success) * np.power(prob_f, fail)\n",
    "\n",
    "print('The probability of getting 5 incorrect answers out of 20 question {:0.9f}'.format(prob))\n",
    "\n"
   ]
  },
  {
   "cell_type": "raw",
   "metadata": {},
   "source": [
    "A die marked A to E is rolled 50 times. Find the probability of getting a “D” exactly 5 times."
   ]
  },
  {
   "cell_type": "code",
   "execution_count": 3,
   "metadata": {},
   "outputs": [
    {
     "name": "stdout",
     "output_type": "stream",
     "text": [
      "probbility of getting D  0.022222222222222223\n"
     ]
    }
   ],
   "source": [
    "n = 50 # no of times die rolled\n",
    "n_d = 5 # no of times D appeared\n",
    "k = 45 # no of times D not appeared\n",
    "\n",
    "#probability of getting D\n",
    "prb_s = 1/k\n",
    "\n",
    "#probability of not getting D\n",
    "prb_f = 1 - prb_s\n",
    "\n",
    "print('probbility of getting D ', prb_s)"
   ]
  },
  {
   "cell_type": "raw",
   "metadata": {},
   "source": [
    "Two balls are drawn at random in succession without replacement from an urn\n",
    "containing 4 red balls and 6 black balls.\n",
    "Find the probabilities of all the possible outcomes."
   ]
  },
  {
   "cell_type": "code",
   "execution_count": 7,
   "metadata": {},
   "outputs": [
    {
     "name": "stdout",
     "output_type": "stream",
     "text": [
      "probability of both red balls 0.13333333333333333\n",
      "probability of both red balls 0.3333333333333333\n",
      "probability of one black ball and one red ball 0.2666666666666667\n"
     ]
    }
   ],
   "source": [
    "red = 4\n",
    "black =  6\n",
    "total = red + black\n",
    "withdraw = 2\n",
    "#case 1\n",
    "#probability of both red balls  4C2/10C2\n",
    "prb_r = (factorial(red)/factorial(total)) * (factorial(total - withdraw) / factorial(red- withdraw))\n",
    "print('probability of both red balls', prb_r)\n",
    "\n",
    "#case 2\n",
    "#probability of both black balls  6C2/10C2\n",
    "prb_b = (factorial(black) * factorial(total - withdraw))/ (factorial(total) * factorial(black- withdraw))\n",
    "print('probability of both red balls', prb_b)\n",
    "\n",
    "\n",
    "#case 2\n",
    "#probability of one black ball and one red ball  6C1 * 4C1/10C2\n",
    "\n",
    "prb_b_r = (factorial(black) * factorial(red))/factorial(total) * factorial(total - withdraw) / (factorial(black- 1) * factorial(red -1))\n",
    "print('probability of one black ball and one red ball',prb_b_r)\n",
    "\n",
    "\n",
    "\n",
    "\n",
    "\n"
   ]
  },
  {
   "cell_type": "code",
   "execution_count": null,
   "metadata": {},
   "outputs": [],
   "source": []
  },
  {
   "cell_type": "code",
   "execution_count": null,
   "metadata": {},
   "outputs": [],
   "source": []
  }
 ],
 "metadata": {
  "kernelspec": {
   "display_name": "Python 3",
   "language": "python",
   "name": "python3"
  },
  "language_info": {
   "codemirror_mode": {
    "name": "ipython",
    "version": 3
   },
   "file_extension": ".py",
   "mimetype": "text/x-python",
   "name": "python",
   "nbconvert_exporter": "python",
   "pygments_lexer": "ipython3",
   "version": "3.6.6"
  }
 },
 "nbformat": 4,
 "nbformat_minor": 4
}
