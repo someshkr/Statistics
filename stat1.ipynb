{
 "cells": [
  {
   "cell_type": "raw",
   "metadata": {},
   "source": [
    "1.You survey households in your area to find the average rent they are paying. Find the\n",
    "standard deviation from the following data:\n",
    "$1550, $1700, $900, $850, $1000, $950."
   ]
  },
  {
   "cell_type": "code",
   "execution_count": 1,
   "metadata": {},
   "outputs": [],
   "source": [
    "import statistics as st\n"
   ]
  },
  {
   "cell_type": "code",
   "execution_count": 6,
   "metadata": {},
   "outputs": [
    {
     "name": "stdout",
     "output_type": "stream",
     "text": [
      "average rent : $ 1158.3333333333333\n",
      "standard deviation : $ 335.92740617910624\n"
     ]
    }
   ],
   "source": [
    "data = [1550,1700,900,850,1000,950]\n",
    "\n",
    "avg = st.mean(data)\n",
    "print('average rent : $',avg)\n",
    "\n",
    "sta_dev = st.pstdev(data)\n",
    "print('standard deviation : $',sta_dev)"
   ]
  },
  {
   "cell_type": "raw",
   "metadata": {},
   "source": [
    "2. Find the variance for the following set of data representing trees in California (heights in feet):\n",
    "3, 21, 98, 203, 17, 9"
   ]
  },
  {
   "cell_type": "code",
   "execution_count": 7,
   "metadata": {},
   "outputs": [
    {
     "name": "stdout",
     "output_type": "stream",
     "text": [
      "variance :  5183.25 feet\n"
     ]
    }
   ],
   "source": [
    "data_2 = [3, 21, 98, 203, 17, 9]\n",
    "\n",
    "var = st.pvariance(data_2)\n",
    "\n",
    "print('variance : ',var,'feet')"
   ]
  },
  {
   "cell_type": "raw",
   "metadata": {},
   "source": [
    "3. In a class on 100 students, 80 students passed in all subjects, 10 failed in one subject, 7\n",
    "failed in two subjects and 3 failed in three subjects. Find the probability distribution of\n",
    "the variable for number of subjects a student from the given class has failed in."
   ]
  },
  {
   "cell_type": "code",
   "execution_count": 8,
   "metadata": {},
   "outputs": [],
   "source": [
    "import numpy as np\n",
    "import matplotlib.pyplot as plt\n",
    "%matplotlib inline\n",
    "total_stdnt = 100\n",
    "passed_all = 80\n",
    "fail_1 = 10\n",
    "fail_2 = 7\n",
    "fail_3 = 3\n"
   ]
  },
  {
   "cell_type": "code",
   "execution_count": 10,
   "metadata": {},
   "outputs": [
    {
     "name": "stdout",
     "output_type": "stream",
     "text": [
      "probability of students failed in none 0.8\n",
      "probability of students failed in one subject 0.1\n",
      "probability of students failed in two subject 0.07\n",
      "probability of students failed in three subject 0.03\n"
     ]
    }
   ],
   "source": [
    "stdnt_fail_all = total_stdnt - passed_all\n",
    "prb_fail_0 = passed_all/total_stdnt\n",
    "prb_fail_1 = fail_1/total_stdnt\n",
    "prb_fail_2 = fail_2/total_stdnt\n",
    "prb_fail_3 = fail_3/total_stdnt\n",
    "\n",
    "print('probability of students failed in none',prb_fail_0)\n",
    "print('probability of students failed in one subject',prb_fail_1)\n",
    "print('probability of students failed in two subject',prb_fail_2)\n",
    "print('probability of students failed in three subject',prb_fail_3)"
   ]
  },
  {
   "cell_type": "code",
   "execution_count": 11,
   "metadata": {},
   "outputs": [],
   "source": [
    "x = [prb_fail_0,prb_fail_1,prb_fail_2,prb_fail_3]\n",
    "\n",
    "counts,bins = np.histogram(x, bins=10, density=True)\n",
    "\n",
    "pdf = counts/(sum(counts))\n",
    "cdf = np.cumsum(pdf)"
   ]
  },
  {
   "cell_type": "code",
   "execution_count": 13,
   "metadata": {},
   "outputs": [
    {
     "data": {
      "text/plain": [
       "Text(0.5, 1, 'PDF/CDF of students with respect to subjects passed')"
      ]
     },
     "execution_count": 13,
     "metadata": {},
     "output_type": "execute_result"
    },
    {
     "data": {
      "image/png": "[encoded data removed]",
      "text/plain": [
       "<Figure size 720x360 with 1 Axes>"
      ]
     },
     "metadata": {
      "needs_background": "light"
     },
     "output_type": "display_data"
    }
   ],
   "source": [
    "plt.figure(figsize=(10,5))\n",
    "plt.subplot(1, 2, 1)\n",
    "plt.plot(bins[1:], pdf,label=\"PDF\")\n",
    "plt.plot(bins[1:], cdf,label=\"CDF\")\n",
    "plt.legend()\n",
    "plt.tight_layout()\n",
    "plt.title(\"PDF/CDF of students with respect to subjects passed\")"
   ]
  },
  {
   "cell_type": "code",
   "execution_count": null,
   "metadata": {},
   "outputs": [],
   "source": []
  }
 ],
 "metadata": {
  "kernelspec": {
   "display_name": "Python 3",
   "language": "python",
   "name": "python3"
  },
  "language_info": {
   "codemirror_mode": {
    "name": "ipython",
    "version": 3
   },
   "file_extension": ".py",
   "mimetype": "text/x-python",
   "name": "python",
   "nbconvert_exporter": "python",
   "pygments_lexer": "ipython3",
   "version": "3.6.6"
  }
 },
 "nbformat": 4,
 "nbformat_minor": 4
}
