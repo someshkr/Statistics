{
 "cells": [
  {
   "cell_type": "raw",
   "metadata": {},
   "source": [
    "Blood glucose levels for obese patients have a mean of 100 with a standard deviation of\n",
    "15. A researcher thinks that a diet high in raw cornstarch will have a positive effect on\n",
    "blood glucose levels. A sample of 36 patients who have tried the raw cornstarch diet\n",
    "have a mean glucose level of 108. Test the hypothesis that the raw cornstarch had an\n",
    "effect or not."
   ]
  },
  {
   "cell_type": "code",
   "execution_count": 3,
   "metadata": {},
   "outputs": [],
   "source": [
    "from math import sqrt \n",
    "sd_p = 15\n",
    "mean_p =100\n",
    "n = 36\n",
    "mean_s = 108"
   ]
  },
  {
   "cell_type": "code",
   "execution_count": 4,
   "metadata": {},
   "outputs": [
    {
     "name": "stdout",
     "output_type": "stream",
     "text": [
      "Zscore value : 3.2\n"
     ]
    }
   ],
   "source": [
    "#Z-score\n",
    "z = (mean_s-mean_p)/(sd_p/sqrt(n))\n",
    "print('Zscore value :',z)"
   ]
  },
  {
   "cell_type": "raw",
   "metadata": {},
   "source": [
    "the population mean is 100, sso we have define our hypotheses based on that,\n",
    "NUll hypotheses is H0:mean = 100\n",
    "alternative hypotheses is H1:≠100\n",
    "there is no information provided about the significant level or confidence interval\n",
    "so lets assume it to be 0.05 or 95% (commonly used)"
   ]
  },
  {
   "cell_type": "raw",
   "metadata": {},
   "source": [
    "corresponding Z table shows 0.9993\n",
    "that implies the probability of having value less that 108 is 99.93%\n",
    "and more than equals to 108 is 0.0007.\n",
    "this value is less than 0.05 so we will reject null hypotheses\n",
    "i.e. there is raw cornstarch effect"
   ]
  },
  {
   "cell_type": "raw",
   "metadata": {},
   "source": [
    "In one state, 52% of the voters are Republicans, and 48% are Democrats. In a second\n",
    "state, 47% of the voters are Republicans, and 53% are Democrats. Suppose a simple\n",
    "random sample of 100 voters are surveyed from each state.\n",
    "What is the probability that the survey will show a greater percentage of Republican\n",
    "voters in the second state than in the first state?"
   ]
  },
  {
   "cell_type": "code",
   "execution_count": 9,
   "metadata": {},
   "outputs": [
    {
     "name": "stdout",
     "output_type": "stream",
     "text": [
      "MU : 0.050000000000000044 \n",
      "std: 0.07061869440877536\n"
     ]
    }
   ],
   "source": [
    "#the no of voters sampled from first & second state\n",
    "n1 = n2 = 100\n",
    "\n",
    "p1 = 0.52 #republican voters of state1\n",
    "q1 = 0.48 # non republican voters of state1\n",
    "\n",
    "p2= 0.47  #republican voters of state2\n",
    "q2 = 0.53  #non republican voters of state2\n",
    "\n",
    "#mean diffrence\n",
    "mu = p1-p2\n",
    "\n",
    "std = sqrt(((p1*q1)/ n1) +(p2*q2)/n2 )\n",
    "print('MU :',mu,'\\nstd:',std)"
   ]
  },
  {
   "cell_type": "code",
   "execution_count": 11,
   "metadata": {},
   "outputs": [
    {
     "name": "stdout",
     "output_type": "stream",
     "text": [
      "z score -0.7080278164104213\n"
     ]
    }
   ],
   "source": [
    "#the problem requires us to find the probability that p_1 is less than p_2\n",
    "#this is equivalent to finding the probability that p_1-p_2< 0\n",
    "x = 0\n",
    "# z score\n",
    "z = (x-mu)/std\n",
    "print('z score',z)"
   ]
  },
  {
   "cell_type": "raw",
   "metadata": {},
   "source": [
    "z score value shows 0.2420\n",
    "that means probability of the survey will show there is a greater percentage \n",
    "of republican voters in 2nd state than 1st is 0.24"
   ]
  },
  {
   "cell_type": "raw",
   "metadata": {},
   "source": [
    "You take the SAT and score 1100. The mean score for the SAT is 1026 and the standard\n",
    "deviation is 209. How well did you score on the test compared to the average test taker?"
   ]
  },
  {
   "cell_type": "code",
   "execution_count": 12,
   "metadata": {},
   "outputs": [
    {
     "name": "stdout",
     "output_type": "stream",
     "text": [
      "Z score  0.35406698564593303\n"
     ]
    }
   ],
   "source": [
    "x = 1100 #myscore\n",
    "mu = 1026 #mean score\n",
    "sd = 209 #standard deviation\n",
    "#z score\n",
    "z = (x-mu)/sd\n",
    "print('Z score ', z)\n",
    "#my score is 0.35 sd above the mean"
   ]
  },
  {
   "cell_type": "code",
   "execution_count": null,
   "metadata": {},
   "outputs": [],
   "source": []
  }
 ],
 "metadata": {
  "kernelspec": {
   "display_name": "Python 3",
   "language": "python",
   "name": "python3"
  },
  "language_info": {
   "codemirror_mode": {
    "name": "ipython",
    "version": 3
   },
   "file_extension": ".py",
   "mimetype": "text/x-python",
   "name": "python",
   "nbconvert_exporter": "python",
   "pygments_lexer": "ipython3",
   "version": "3.6.6"
  }
 },
 "nbformat": 4,
 "nbformat_minor": 2
}
